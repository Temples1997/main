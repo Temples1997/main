{
 "cells": [
  {
   "cell_type": "markdown",
   "metadata": {
    "slideshow": {
     "slide_type": "slide"
    }
   },
   "source": [
    "# 熱中症とコロナの識別の正確性についての検証\n",
    "\n"
   ]
  },
  {
   "cell_type": "markdown",
   "metadata": {},
   "source": [
    "### 目次<a id='top'></a>\n",
    "1. [検証内容](#sec1_1)\n",
    "    1. [趣旨](#sec1_2)\n",
    "    2. [クエスチョン](#sec1_3)\n",
    "    3. [実証方法](#sec1_4)\n",
    "    4. [定義とデータセット](#sec1_5)\n",
    "    3. [実証結果](#sec1_6)\n",
    "\n",
    "2. [データセットの作成](#sec2_1)\n",
    "    1. [データの整理](#sec2_2_1)\n",
    "        1. [気温データの整理](#sec2_2_2)\n",
    "        2. [熱中症データの整理](#sec2_2_3)\n",
    "    2. [データの結合](#sec2_3_1)\n",
    "        1. [データの結合のための準備](#sec2_3_2)\n",
    "        2. [データの結合](#sec2_3_3)\n",
    "3. [データ分析](#sec3_1)\n",
    "    1. [サマリーテーブル](#sec3_2)\n",
    "    2. [散布図](#sec3_3)\n",
    "    3. [データ分析(固定効果法)](#sec3_4)\n",
    "            \n",
    "   "
   ]
  },
  {
   "cell_type": "markdown",
   "metadata": {},
   "source": [
    "# 1. 検証内容<a id =\"sec1_1\"></a>"
   ]
  },
  {
   "cell_type": "markdown",
   "metadata": {
    "slideshow": {
     "slide_type": "slide"
    }
   },
   "source": [
    "## A. 趣旨<a id =\"sec1_2\"></a>\n",
    "\n",
    "- コロナと熱中症は怠惰感、頭痛、高体温などの似通った症状をもっている。そのため、コロナと熱中症は見分けがつきにくいという指摘が度々なされてきた。\n",
    "- 今回、「気温と強い相関関係のある熱中症」と「気温と正の相関関係を持たないと考えられているコロナ」の特徴を利用することで、コロナの症状が熱中症と誤診される可能性について検討できると考えた。\n",
    "- 2020年の熱中症の症状数を過去10年間のデータと照らし合わせて分析した結果、緊急搬送時の診断において、コロナの症状が熱中症と十分に見分けがついている、という含意が得られた。"
   ]
  },
  {
   "cell_type": "markdown",
   "metadata": {
    "slideshow": {
     "slide_type": "slide"
    }
   },
   "source": [
    "## B. クエスチョン<a id =\"sec1_3\"></a>\n",
    "\n",
    "緊急搬送の診断において、コロナの患者と熱中症の患者の見分けがついているか"
   ]
  },
  {
   "cell_type": "markdown",
   "metadata": {
    "slideshow": {
     "slide_type": "slide"
    }
   },
   "source": [
    "## C. 実証方法<a id = \"sec1_4\"></a>\n",
    "\n",
    "- 日本で人口の多い東京、神奈川、大阪の三都道府県を対象にする。\n",
    "- 2020年をtreatment group、2010年～2019年をcontrol groupとして、気温と熱中症の関係を固定効果法で測定する。\n",
    "- もしコロナを熱中症と数多く誤診しているならば、2010～2019年は気温と熱中症患者数には強い相関関係があるのに対して、2020年は熱中症患者数と気温の相関関係は弱まると考えられる。"
   ]
  },
  {
   "cell_type": "markdown",
   "metadata": {
    "slideshow": {
     "slide_type": "slide"
    }
   },
   "source": [
    "## D. 定義とデータセット<a id = \"sec1_5\"></a>\n",
    "\n",
    "- 熱中症の定義\n",
    "  - 熱中症患者:医療機関に救急搬送した熱中症又はその疑いのある傷病者の人員（転院搬送による救急搬送事案は除外）\n",
    "\n",
    "  - 熱中症:「高温環境下で体温の調節機能が破綻するなどして体内の水分や塩分（ナトリウムなど）のバランスが崩れ発症する障害の総称」であり、日射病、熱けいれん、熱疲労、熱射病等を含むもの（詳しくは同ファイル内の「heatstroke_chosa_kaishi.pdf」を参照）\n",
    "\n",
    "\n",
    "- 熱中症のデータ\n",
    "  - 熱中症総務省消防庁「熱中症による救急搬送人員に関するデータ」（https://www.fdma.go.jp/disaster/heatstroke/post3.html ）\n",
    "\n",
    "\n",
    "- 気温のデータ\n",
    "  - 気象庁、過去の気象データダウンロード（https://www.data.jma.go.jp/obd/stats/etrn/　）\n"
   ]
  },
  {
   "cell_type": "markdown",
   "metadata": {},
   "source": [
    "## E. 実証結果<a id = \"sec1_6\"></a>\n",
    "\n",
    "2020年においても、2010年～2019年と同様に、緊急搬送時における熱中症患者と気温には十分な相関関係がみられた、つまり、コロナの影響は確認されなかった。よって、コロナを熱中症は十分に見分けがついているのではないかと推測される。"
   ]
  },
  {
   "cell_type": "markdown",
   "metadata": {
    "slideshow": {
     "slide_type": "slide"
    }
   },
   "source": [
    "# 2. データセットの作成<a id =\"sec2_1\"></a>"
   ]
  },
  {
   "cell_type": "code",
   "execution_count": 1,
   "metadata": {},
   "outputs": [],
   "source": [
    "import os\n",
    "import pandas as pd\n",
    "import numpy as np\n",
    "import seaborn as sns\n",
    "import matplotlib.pyplot as plt\n",
    "import statsmodels.api as sm\n",
    "from statsmodels.iolib.summary2 import summary_col\n",
    "import statsmodels.formula.api as smf"
   ]
  },
  {
   "cell_type": "code",
   "execution_count": 2,
   "metadata": {},
   "outputs": [],
   "source": [
    "pd.options.display.max_rows = 5000 \n",
    "pd.options.display.max_columns = 1000 "
   ]
  },
  {
   "cell_type": "markdown",
   "metadata": {},
   "source": [
    "# A. データの整理<a id =\"sec2_2_1\"></a>"
   ]
  },
  {
   "cell_type": "markdown",
   "metadata": {},
   "source": [
    "##  a. 気温データの整理<a id =\"sec2_2_2\"></a>"
   ]
  },
  {
   "cell_type": "code",
   "execution_count": 3,
   "metadata": {},
   "outputs": [],
   "source": [
    "#気温のデータを読み込む(気温の観測地はそれぞれの県庁所在地（東京、横浜、大阪))\n",
    "\n",
    "temp_data_tokyo = pd.read_csv(\"temp_tokyo.csv\", encoding=\"shift-jis\")\n",
    "temp_data_kanagawa = pd.read_csv(\"temp_kanagawa.csv\", encoding=\"shift-jis\")\n",
    "temp_data_osaka = pd.read_csv(\"temp_osaka.csv\", encoding=\"shift-jis\")\n"
   ]
  },
  {
   "cell_type": "code",
   "execution_count": 4,
   "metadata": {},
   "outputs": [
    {
     "name": "stdout",
     "output_type": "stream",
     "text": [
      "Index(['ダウンロードした時刻：2020/11/25 18:34:55', 'Unnamed: 1', 'Unnamed: 2',\n",
      "       'Unnamed: 3', 'Unnamed: 4', 'Unnamed: 5', 'Unnamed: 6', 'Unnamed: 7',\n",
      "       'Unnamed: 8'],\n",
      "      dtype='object')\n",
      "Index(['ダウンロードした時刻：2020/11/26 12:02:43', 'Unnamed: 1', 'Unnamed: 2',\n",
      "       'Unnamed: 3', 'Unnamed: 4', 'Unnamed: 5', 'Unnamed: 6', 'Unnamed: 7',\n",
      "       'Unnamed: 8'],\n",
      "      dtype='object')\n",
      "Index(['ダウンロードした時刻：2020/11/26 12:01:30', 'Unnamed: 1', 'Unnamed: 2',\n",
      "       'Unnamed: 3', 'Unnamed: 4', 'Unnamed: 5', 'Unnamed: 6', 'Unnamed: 7',\n",
      "       'Unnamed: 8'],\n",
      "      dtype='object')\n"
     ]
    }
   ],
   "source": [
    "#気温の列名を確認\n",
    "\n",
    "print(temp_data_tokyo.columns)\n",
    "print(temp_data_kanagawa.columns)\n",
    "print(temp_data_osaka.columns)"
   ]
  },
  {
   "cell_type": "code",
   "execution_count": 5,
   "metadata": {},
   "outputs": [],
   "source": [
    "#無意味な列を落とす\n",
    "\n",
    "temp_tokyo_drop = temp_data_tokyo.drop(index =range(0,6),columns =['Unnamed: 4', 'Unnamed: 5','Unnamed: 7',\n",
    "       'Unnamed: 8'])\n",
    "temp_kanagawa_drop = temp_data_kanagawa.drop(index =range(0,6),columns =['Unnamed: 4', 'Unnamed: 5','Unnamed: 7',\n",
    "       'Unnamed: 8'])\n",
    "temp_osaka_drop = temp_data_osaka.drop(index =range(0,6),columns =['Unnamed: 4', 'Unnamed: 5','Unnamed: 7',\n",
    "       'Unnamed: 8'])"
   ]
  },
  {
   "cell_type": "code",
   "execution_count": 6,
   "metadata": {},
   "outputs": [],
   "source": [
    "#気温の列名を明確化するために変更\n",
    "\n",
    "temp_tokyo_rename = temp_tokyo_drop.rename(columns = {'ダウンロードした時刻：2020/11/25 18:34:55':\"year\",'Unnamed: 1':\"month\", \n",
    "                                                      'Unnamed: 2':\"day\",'Unnamed: 3':\"temp_max\",'Unnamed: 6':\"temp_mean\"})\n",
    "temp_kanagawa_rename = temp_kanagawa_drop.rename(columns = {'ダウンロードした時刻：2020/11/26 12:02:43':\"year\",'Unnamed: 1':\"month\", \n",
    "                                                      'Unnamed: 2':\"day\",'Unnamed: 3':\"temp_max\",'Unnamed: 6':\"temp_mean\"})\n",
    "temp_osaka_rename = temp_osaka_drop.rename(columns = {'ダウンロードした時刻：2020/11/26 12:01:30':\"year\",'Unnamed: 1':\"month\", \n",
    "                                                      'Unnamed: 2':\"day\",'Unnamed: 3':\"temp_max\",'Unnamed: 6':\"temp_mean\"})"
   ]
  },
  {
   "cell_type": "code",
   "execution_count": 7,
   "metadata": {},
   "outputs": [],
   "source": [
    "#気温のCSVファイルを全て文字列で読み込んでいるため、整数値（月日）、数値（気温）に変更\n",
    "\n",
    "temp_tokyo_rename[[\"year\",\"month\",\"day\"]] = temp_tokyo_rename[[\"year\",\"month\",\"day\"]].astype(int) \n",
    "temp_tokyo_rename[[\"temp_max\",\"temp_mean\"]] = temp_tokyo_rename[[\"temp_max\",\"temp_mean\"]].astype(float)\n",
    "temp_kanagawa_rename[[\"year\",\"month\",\"day\"]] = temp_kanagawa_rename[[\"year\",\"month\",\"day\"]].astype(int) \n",
    "temp_kanagawa_rename[[\"temp_max\",\"temp_mean\"]] = temp_kanagawa_rename[[\"temp_max\",\"temp_mean\"]].astype(float)\n",
    "temp_osaka_rename[[\"year\",\"month\",\"day\"]] = temp_osaka_rename[[\"year\",\"month\",\"day\"]].astype(int) \n",
    "temp_osaka_rename[[\"temp_max\",\"temp_mean\"]] = temp_osaka_rename[[\"temp_max\",\"temp_mean\"]].astype(float)\n"
   ]
  },
  {
   "cell_type": "code",
   "execution_count": 8,
   "metadata": {},
   "outputs": [],
   "source": [
    "#インデックスを一旦日付に変更して一時データを完成\n",
    "\n",
    "temp_tokyo = temp_tokyo_rename.set_index([\"year\",\"month\",\"day\"])\n",
    "temp_kanagawa = temp_kanagawa_rename.set_index([\"year\",\"month\",\"day\"])\n",
    "temp_osaka = temp_osaka_rename.set_index([\"year\",\"month\",\"day\"])"
   ]
  },
  {
   "cell_type": "markdown",
   "metadata": {},
   "source": [
    "## b. 熱中症データの整理<a id =\"sec2_2_3\"></a>"
   ]
  },
  {
   "cell_type": "code",
   "execution_count": 9,
   "metadata": {},
   "outputs": [],
   "source": [
    "#熱中症のデータを読み込む\n",
    "\n",
    "heat_data = {} \n",
    "for year in range(2010,2021):\n",
    "    for month in range(6,9):\n",
    "        heat_data[str(year)+\"_0\"+str(month)] = pd.read_excel(\"heatstroke003_data_\"+str(year)+\".xlsx\",sheet_name=str(year)+\"_0\"+str(month)) "
   ]
  },
  {
   "cell_type": "code",
   "execution_count": 10,
   "metadata": {},
   "outputs": [],
   "source": [
    "#６月～８月のデータを連結する\n",
    "\n",
    "for year in range(2010,2021):\n",
    "    heat_data[str(year)] = pd.concat([heat_data[str(year)+\"_06\"],heat_data[str(year)+\"_07\"],heat_data[str(year)+\"_08\"]], axis=0, ignore_index=True, join='outer', sort=False)"
   ]
  },
  {
   "cell_type": "code",
   "execution_count": 11,
   "metadata": {},
   "outputs": [],
   "source": [
    "# 必要な列を抽出\n",
    "\n",
    "for year in range(2010,2021):\n",
    "    heat_data[str(year)+\"_loc\"] = heat_data[str(year)].loc[:,[\"日付\",\"都道府県コード\",\"搬送人員（計）\"]]"
   ]
  },
  {
   "cell_type": "code",
   "execution_count": 12,
   "metadata": {},
   "outputs": [],
   "source": [
    "#必要な都道府県を抽出(都道府県コード : 13　東京　14　神奈川　27 大阪)\n",
    "\n",
    "for year in range(2010,2021):\n",
    "    heat_data[str(year)+\"_tokyo\"] = heat_data[str(year)+\"_loc\"].query(\"都道府県コード == 13\") \n",
    "    heat_data[str(year)+\"_kanagawa\"] = heat_data[str(year)+\"_loc\"].query(\"都道府県コード==14\") \n",
    "    heat_data[str(year)+\"_osaka\"] = heat_data[str(year)+\"_loc\"].query(\"都道府県コード==27\")"
   ]
  },
  {
   "cell_type": "code",
   "execution_count": 13,
   "metadata": {},
   "outputs": [],
   "source": [
    "#複数年を連結する\n",
    "\n",
    "heat_tokyo_append = pd.concat([heat_data[\"2010_tokyo\"],heat_data[\"2011_tokyo\"],heat_data[\"2012_tokyo\"],heat_data[\"2013_tokyo\"],heat_data[\"2014_tokyo\"],heat_data[\"2015_tokyo\"],\n",
    "                               heat_data[\"2016_tokyo\"],heat_data[\"2017_tokyo\"],heat_data[\"2018_tokyo\"],heat_data[\"2019_tokyo\"],heat_data[\"2020_tokyo\"]],axis = 0)\n",
    "heat_kanagawa_append = pd.concat([heat_data[\"2010_kanagawa\"],heat_data[\"2011_kanagawa\"],heat_data[\"2012_kanagawa\"],heat_data[\"2013_kanagawa\"],heat_data[\"2014_kanagawa\"],heat_data[\"2015_kanagawa\"],\n",
    "                               heat_data[\"2016_kanagawa\"],heat_data[\"2017_kanagawa\"],heat_data[\"2018_kanagawa\"],heat_data[\"2019_kanagawa\"],heat_data[\"2020_kanagawa\"]],axis = 0)\n",
    "heat_osaka_append = pd.concat([heat_data[\"2010_osaka\"],heat_data[\"2011_osaka\"],heat_data[\"2012_osaka\"],heat_data[\"2013_osaka\"],heat_data[\"2014_osaka\"],heat_data[\"2015_osaka\"],\n",
    "                               heat_data[\"2016_osaka\"],heat_data[\"2017_osaka\"],heat_data[\"2018_osaka\"],heat_data[\"2019_osaka\"],heat_data[\"2020_osaka\"]],axis = 0)"
   ]
  },
  {
   "cell_type": "code",
   "execution_count": 14,
   "metadata": {},
   "outputs": [],
   "source": [
    "#列名を変更\n",
    "\n",
    "heat_tokyo_rename = heat_tokyo_append.rename(columns = {'日付':\"heat_date\",'都道府県コード':\"state_num\", \n",
    "                                                     '搬送人員（計）' : \"people\",})\n",
    "heat_kanagawa_rename = heat_kanagawa_append.rename(columns = {'日付':\"heat_date\",'都道府県コード':\"state_num\", \n",
    "                                                     '搬送人員（計）' : \"people\",})\n",
    "heat_osaka_rename = heat_osaka_append.rename(columns = {'日付':\"heat_date\",'都道府県コード':\"state_num\", \n",
    "                                                     '搬送人員（計）' : \"people\",})"
   ]
  },
  {
   "cell_type": "code",
   "execution_count": 15,
   "metadata": {},
   "outputs": [],
   "source": [
    "#データの欠けている行を削除\n",
    "\n",
    "heat_tokyo_dropna = heat_tokyo_rename.dropna(how = \"any\", axis = \"index\")\n",
    "heat_kanagawa_dropna = heat_kanagawa_rename.dropna(how = \"any\", axis = \"index\")\n",
    "heat_osaka_dropna = heat_osaka_rename.dropna(how = \"any\", axis = \"index\")"
   ]
  },
  {
   "cell_type": "code",
   "execution_count": 16,
   "metadata": {},
   "outputs": [],
   "source": [
    "#インデックスを指定して一時データの完成\n",
    "\n",
    "heat_tokyo = heat_tokyo_dropna.set_index(\"heat_date\")\n",
    "heat_kanagawa = heat_kanagawa_dropna.set_index(\"heat_date\")\n",
    "heat_osaka = heat_osaka_dropna.set_index(\"heat_date\")"
   ]
  },
  {
   "cell_type": "code",
   "execution_count": 17,
   "metadata": {},
   "outputs": [
    {
     "name": "stdout",
     "output_type": "stream",
     "text": [
      "<class 'pandas.core.frame.DataFrame'>\n",
      "DatetimeIndex: 1004 entries, 2010-06-01 to 2020-08-31\n",
      "Data columns (total 2 columns):\n",
      " #   Column     Non-Null Count  Dtype  \n",
      "---  ------     --------------  -----  \n",
      " 0   state_num  1004 non-null   int64  \n",
      " 1   people     1004 non-null   float64\n",
      "dtypes: float64(1), int64(1)\n",
      "memory usage: 23.5 KB\n",
      "<class 'pandas.core.frame.DataFrame'>\n",
      "DatetimeIndex: 1006 entries, 2010-06-01 to 2020-08-31\n",
      "Data columns (total 2 columns):\n",
      " #   Column     Non-Null Count  Dtype  \n",
      "---  ------     --------------  -----  \n",
      " 0   state_num  1006 non-null   int64  \n",
      " 1   people     1006 non-null   float64\n",
      "dtypes: float64(1), int64(1)\n",
      "memory usage: 23.6 KB\n",
      "<class 'pandas.core.frame.DataFrame'>\n",
      "DatetimeIndex: 1011 entries, 2010-06-01 to 2020-08-31\n",
      "Data columns (total 2 columns):\n",
      " #   Column     Non-Null Count  Dtype  \n",
      "---  ------     --------------  -----  \n",
      " 0   state_num  1011 non-null   int64  \n",
      " 1   people     1011 non-null   float64\n",
      "dtypes: float64(1), int64(1)\n",
      "memory usage: 23.7 KB\n"
     ]
    }
   ],
   "source": [
    "# データの欠陥を確認\n",
    "\n",
    "heat_tokyo.info()\n",
    "heat_kanagawa.info()\n",
    "heat_osaka.info()"
   ]
  },
  {
   "cell_type": "markdown",
   "metadata": {},
   "source": [
    "## B. データの結合<a id =\"sec2_3_1\"></a>"
   ]
  },
  {
   "cell_type": "markdown",
   "metadata": {},
   "source": [
    "### a. データの結合のための準備<a id =\"sec2_3_2\"></a>"
   ]
  },
  {
   "cell_type": "code",
   "execution_count": 18,
   "metadata": {},
   "outputs": [],
   "source": [
    "#各年代の6月～8月の記録を抽出\n",
    "\n",
    "temp_tokyo_query = temp_tokyo.query(\"6 <= month <= 8\")\n",
    "temp_kanagawa_query = temp_kanagawa.query(\"6 <= month <= 8\")\n",
    "temp_osaka_query = temp_osaka.query(\"6 <= month <= 8\")"
   ]
  },
  {
   "cell_type": "code",
   "execution_count": 19,
   "metadata": {},
   "outputs": [
    {
     "name": "stdout",
     "output_type": "stream",
     "text": [
      "<class 'pandas.core.frame.DataFrame'>\n",
      "MultiIndex: 1012 entries, (2010, 6, 1) to (2020, 8, 31)\n",
      "Data columns (total 2 columns):\n",
      " #   Column     Non-Null Count  Dtype  \n",
      "---  ------     --------------  -----  \n",
      " 0   temp_max   1012 non-null   float64\n",
      " 1   temp_mean  1012 non-null   float64\n",
      "dtypes: float64(2)\n",
      "memory usage: 19.4 KB\n",
      "<class 'pandas.core.frame.DataFrame'>\n",
      "MultiIndex: 1012 entries, (2010, 6, 1) to (2020, 8, 31)\n",
      "Data columns (total 2 columns):\n",
      " #   Column     Non-Null Count  Dtype  \n",
      "---  ------     --------------  -----  \n",
      " 0   temp_max   1012 non-null   float64\n",
      " 1   temp_mean  1012 non-null   float64\n",
      "dtypes: float64(2)\n",
      "memory usage: 19.4 KB\n",
      "<class 'pandas.core.frame.DataFrame'>\n",
      "MultiIndex: 1012 entries, (2010, 6, 1) to (2020, 8, 31)\n",
      "Data columns (total 2 columns):\n",
      " #   Column     Non-Null Count  Dtype  \n",
      "---  ------     --------------  -----  \n",
      " 0   temp_max   1012 non-null   float64\n",
      " 1   temp_mean  1012 non-null   float64\n",
      "dtypes: float64(2)\n",
      "memory usage: 19.4 KB\n"
     ]
    }
   ],
   "source": [
    "#欠陥データもなく、計測されていない月日がないことを確認((30+31+31)*11 = 1012)\n",
    "\n",
    "temp_tokyo_query.info()\n",
    "temp_kanagawa_query.info()\n",
    "temp_osaka_query.info()"
   ]
  },
  {
   "cell_type": "code",
   "execution_count": 20,
   "metadata": {},
   "outputs": [
    {
     "name": "stdout",
     "output_type": "stream",
     "text": [
      "['20100614', '20100623', '20110601', '20110602', '20110603', '20140611', '20140612']\n",
      "['20100614', '20100623', '20110601', '20110602', '20110603', '20140611', '20140612', '20100713']\n",
      "['20100614', '20100623', '20110601', '20110602', '20110603', '20140611', '20140612', '20100713']\n"
     ]
    }
   ],
   "source": [
    "# 熱中症のデータが収集されていない日、またはデータ欠陥で削除した日があるのでその日を見つける（東京）\n",
    "\n",
    "L =[]\n",
    "def find_missing_date_tokyo(month):\n",
    "    for year in range(2010,2021):\n",
    "        for date in range(1,31):\n",
    "            if date in range(1,10):\n",
    "                D = str(year) + \"0\" + str(month) + \"0\" + str(date)\n",
    "            else:\n",
    "                D = str(year) + \"0\" + str(month)  + str(date)\n",
    "            if D in  heat_tokyo.index:\n",
    "                False\n",
    "            else:\n",
    "                L.append(D)\n",
    "    print(L)\n",
    "\n",
    "find_missing_date_tokyo(6)\n",
    "find_missing_date_tokyo(7)\n",
    "find_missing_date_tokyo(8)"
   ]
  },
  {
   "cell_type": "code",
   "execution_count": 21,
   "metadata": {},
   "outputs": [
    {
     "name": "stdout",
     "output_type": "stream",
     "text": [
      "['20140606', '20140607', '20140612', '20140622', '20140628']\n",
      "['20140606', '20140607', '20140612', '20140622', '20140628', '20100712']\n",
      "['20140606', '20140607', '20140612', '20140622', '20140628', '20100712']\n"
     ]
    }
   ],
   "source": [
    "# 熱中症のデータが収集されていない日、またはデータ欠陥で削除した日があるのでその日を見つける（神奈川）\n",
    "\n",
    "L = []\n",
    "def find_missing_date_kanagawa(month):\n",
    "    for year in range(2010,2021):\n",
    "        for date in range(1,31):\n",
    "            if date in range(1,10):\n",
    "                D = str(year) + \"0\" + str(month) + \"0\" + str(date)\n",
    "            else:\n",
    "                D = str(year) + \"0\" + str(month)  + str(date)\n",
    "            if D in heat_kanagawa.index:\n",
    "                False\n",
    "            else:\n",
    "                L.append(D)\n",
    "    print(L)\n",
    "find_missing_date_kanagawa(6)\n",
    "find_missing_date_kanagawa(7)\n",
    "find_missing_date_kanagawa(8)"
   ]
  },
  {
   "cell_type": "code",
   "execution_count": 22,
   "metadata": {},
   "outputs": [
    {
     "name": "stdout",
     "output_type": "stream",
     "text": [
      "[]\n",
      "['20100712']\n",
      "['20100712']\n"
     ]
    }
   ],
   "source": [
    "# 熱中症のデータが収集されていない日、またはデータ欠陥で削除した日があるのでその日を見つける（大阪）\n",
    "\n",
    "L =[]\n",
    "def find_missing_date_osaka(month):\n",
    "    for year in range(2010,2021):\n",
    "        for date in range(1,31):\n",
    "            if date in range(1,10):\n",
    "                D = str(year) + \"0\" + str(month) + \"0\" + str(date)\n",
    "            else:\n",
    "                D = str(year)  + \"0\" +str(month)  + str(date)\n",
    "            if D in heat_osaka.index:\n",
    "                False\n",
    "            else:\n",
    "                L.append(D)\n",
    "    print(L)\n",
    "find_missing_date_osaka(6)\n",
    "find_missing_date_osaka(7)\n",
    "find_missing_date_osaka(8)"
   ]
  },
  {
   "cell_type": "code",
   "execution_count": 23,
   "metadata": {},
   "outputs": [],
   "source": [
    "#行数を揃えるために気温のデータから上記の日を削除する\n",
    "\n",
    "temp_tokyo_drop = temp_tokyo_query.drop([(2010,6,14), (2010,6,23), (2011,6,1), (2011,6,2), \n",
    "                                   (2011,6,3), (2014,6,11), (2014,6,12), (2010,7,13)],axis = 0)\n",
    "temp_kanagawa_drop = temp_kanagawa_query.drop([(2014,6,6), (2014,6,7), (2014,6,12), (2014,6,22),\n",
    "                                         (2014,6,28), (2010,7,12)], axis = 0)\n",
    "temp_osaka_drop =temp_osaka_query.drop([(2010,7,12)])"
   ]
  },
  {
   "cell_type": "code",
   "execution_count": 24,
   "metadata": {},
   "outputs": [],
   "source": [
    "#気温のデータのインデックスをリセットする\n",
    "\n",
    "temp_tokyo_reset = temp_tokyo_drop.reset_index()\n",
    "temp_kanagawa_reset = temp_kanagawa_drop.reset_index()\n",
    "temp_osaka_reset = temp_osaka_drop.reset_index()"
   ]
  },
  {
   "cell_type": "markdown",
   "metadata": {},
   "source": [
    "### b. データの結合<a id =\"sec2_3_3\"></a>"
   ]
  },
  {
   "cell_type": "code",
   "execution_count": 25,
   "metadata": {},
   "outputs": [],
   "source": [
    "#気温のデータと熱中症のデータを結合する\n",
    "\n",
    "ht_tokyo = pd.merge(temp_tokyo_reset,heat_tokyo, on = heat_tokyo.index ,how = \"right\")\n",
    "ht_kanagawa = pd.merge(temp_kanagawa_reset,heat_kanagawa, on = heat_kanagawa.index ,how = \"right\")\n",
    "ht_osaka = pd.merge(temp_osaka_reset,heat_osaka, on = heat_osaka.index ,how = \"right\")"
   ]
  },
  {
   "cell_type": "code",
   "execution_count": 26,
   "metadata": {},
   "outputs": [],
   "source": [
    "# treatment group と　control groupに分ける\n",
    "\n",
    "ht_tokyo_treat = ht_tokyo.query(\"year == 2020\")\n",
    "ht_tokyo_control =ht_tokyo.query(\"year != 2020\")\n",
    "ht_kanagawa_treat = ht_kanagawa.query(\"year == 2020\")\n",
    "ht_kanagawa_control =ht_kanagawa.query(\"year != 2020\")\n",
    "ht_osaka_treat = ht_osaka.query(\"year == 2020\")\n",
    "ht_osaka_control =ht_osaka.query(\"year != 2020\")"
   ]
  },
  {
   "cell_type": "code",
   "execution_count": 27,
   "metadata": {},
   "outputs": [],
   "source": [
    "#都道府県ごとのtreatment group、control groupをそれぞれ結合する\n",
    "\n",
    "ht_treat = pd.concat([ht_tokyo_treat, ht_kanagawa_treat, ht_osaka_treat], axis = 0)\n",
    "ht_control = pd.concat([ht_tokyo_control, ht_kanagawa_control, ht_osaka_control], axis = 0)"
   ]
  },
  {
   "cell_type": "markdown",
   "metadata": {},
   "source": [
    "# 3. データ分析<a id =\"sec3_1\"></a>"
   ]
  },
  {
   "cell_type": "markdown",
   "metadata": {},
   "source": [
    "## A. サマリーテーブル<a id =\"sec3_2\"></a>"
   ]
  },
  {
   "cell_type": "code",
   "execution_count": 28,
   "metadata": {},
   "outputs": [
    {
     "data": {
      "text/html": [
       "<div>\n",
       "<style scoped>\n",
       "    .dataframe tbody tr th:only-of-type {\n",
       "        vertical-align: middle;\n",
       "    }\n",
       "\n",
       "    .dataframe tbody tr th {\n",
       "        vertical-align: top;\n",
       "    }\n",
       "\n",
       "    .dataframe thead th {\n",
       "        text-align: right;\n",
       "    }\n",
       "</style>\n",
       "<table border=\"1\" class=\"dataframe\">\n",
       "  <thead>\n",
       "    <tr style=\"text-align: right;\">\n",
       "      <th></th>\n",
       "      <th>mean</th>\n",
       "      <th>std</th>\n",
       "      <th>min</th>\n",
       "      <th>max</th>\n",
       "      <th>count</th>\n",
       "    </tr>\n",
       "  </thead>\n",
       "  <tbody>\n",
       "    <tr>\n",
       "      <th>temp_max</th>\n",
       "      <td>30.275362</td>\n",
       "      <td>4.019341</td>\n",
       "      <td>19.7</td>\n",
       "      <td>38.6</td>\n",
       "      <td>276.0</td>\n",
       "    </tr>\n",
       "    <tr>\n",
       "      <th>temp_mean</th>\n",
       "      <td>26.130435</td>\n",
       "      <td>3.163361</td>\n",
       "      <td>18.7</td>\n",
       "      <td>32.8</td>\n",
       "      <td>276.0</td>\n",
       "    </tr>\n",
       "    <tr>\n",
       "      <th>people</th>\n",
       "      <td>45.489130</td>\n",
       "      <td>61.390167</td>\n",
       "      <td>0.0</td>\n",
       "      <td>363.0</td>\n",
       "      <td>276.0</td>\n",
       "    </tr>\n",
       "  </tbody>\n",
       "</table>\n",
       "</div>"
      ],
      "text/plain": [
       "                mean        std   min    max  count\n",
       "temp_max   30.275362   4.019341  19.7   38.6  276.0\n",
       "temp_mean  26.130435   3.163361  18.7   32.8  276.0\n",
       "people     45.489130  61.390167   0.0  363.0  276.0"
      ]
     },
     "execution_count": 28,
     "metadata": {},
     "output_type": "execute_result"
    }
   ],
   "source": [
    "# treatment group(2020年) のsummary table\n",
    "\n",
    "ht_treat1 = ht_treat.loc[:,[ \"temp_max\", \"temp_mean\",\"people\"]]\n",
    "ht_treat1.agg(['mean', 'std', 'min', 'max', 'count']).T"
   ]
  },
  {
   "cell_type": "code",
   "execution_count": 29,
   "metadata": {},
   "outputs": [
    {
     "data": {
      "text/html": [
       "<div>\n",
       "<style scoped>\n",
       "    .dataframe tbody tr th:only-of-type {\n",
       "        vertical-align: middle;\n",
       "    }\n",
       "\n",
       "    .dataframe tbody tr th {\n",
       "        vertical-align: top;\n",
       "    }\n",
       "\n",
       "    .dataframe thead th {\n",
       "        text-align: right;\n",
       "    }\n",
       "</style>\n",
       "<table border=\"1\" class=\"dataframe\">\n",
       "  <thead>\n",
       "    <tr style=\"text-align: right;\">\n",
       "      <th></th>\n",
       "      <th>mean</th>\n",
       "      <th>std</th>\n",
       "      <th>min</th>\n",
       "      <th>max</th>\n",
       "      <th>count</th>\n",
       "    </tr>\n",
       "  </thead>\n",
       "  <tbody>\n",
       "    <tr>\n",
       "      <th>temp_max</th>\n",
       "      <td>30.152204</td>\n",
       "      <td>4.010982</td>\n",
       "      <td>17.4</td>\n",
       "      <td>39.0</td>\n",
       "      <td>2745.0</td>\n",
       "    </tr>\n",
       "    <tr>\n",
       "      <th>temp_mean</th>\n",
       "      <td>26.047031</td>\n",
       "      <td>3.385241</td>\n",
       "      <td>15.2</td>\n",
       "      <td>33.2</td>\n",
       "      <td>2745.0</td>\n",
       "    </tr>\n",
       "    <tr>\n",
       "      <th>people</th>\n",
       "      <td>36.739891</td>\n",
       "      <td>49.580104</td>\n",
       "      <td>0.0</td>\n",
       "      <td>406.0</td>\n",
       "      <td>2745.0</td>\n",
       "    </tr>\n",
       "  </tbody>\n",
       "</table>\n",
       "</div>"
      ],
      "text/plain": [
       "                mean        std   min    max   count\n",
       "temp_max   30.152204   4.010982  17.4   39.0  2745.0\n",
       "temp_mean  26.047031   3.385241  15.2   33.2  2745.0\n",
       "people     36.739891  49.580104   0.0  406.0  2745.0"
      ]
     },
     "execution_count": 29,
     "metadata": {},
     "output_type": "execute_result"
    }
   ],
   "source": [
    "#control group(2020年)のsummary table\n",
    "\n",
    "ht_control1 = ht_control.loc[:,[ \"temp_max\", \"temp_mean\",\"people\"]]\n",
    "ht_control1.agg(['mean', 'std', 'min', 'max', 'count']).T"
   ]
  },
  {
   "cell_type": "markdown",
   "metadata": {},
   "source": [
    "## B. 散布図<a id =\"sec3_3\"></a>"
   ]
  },
  {
   "cell_type": "code",
   "execution_count": 30,
   "metadata": {},
   "outputs": [
    {
     "data": {
      "image/png": "[encoded data removed]",
      "text/plain": [
       "<Figure size 432x288 with 1 Axes>"
      ]
     },
     "metadata": {
      "needs_background": "light"
     },
     "output_type": "display_data"
    },
    {
     "data": {
      "image/png": "[encoded data removed]",
      "text/plain": [
       "<Figure size 432x288 with 1 Axes>"
      ]
     },
     "metadata": {
      "needs_background": "light"
     },
     "output_type": "display_data"
    }
   ],
   "source": [
    "#散布図(東京　上がtreatment, 下がcontrol)\n",
    "\n",
    "plt.scatter(y=ht_tokyo_treat[\"people\"], x=ht_tokyo_treat['temp_max'])\n",
    "plt.ylabel(\"People of heatstrokes\")\n",
    "plt.xlabel(\"Max temperature\")\n",
    "plt.show()\n",
    "plt.scatter(y=ht_tokyo_control[\"people\"], x=ht_tokyo_control['temp_max'])\n",
    "plt.ylabel(\"People of heatstrokes\")\n",
    "plt.xlabel(\"Max temperature\")\n",
    "plt.show()"
   ]
  },
  {
   "cell_type": "code",
   "execution_count": 31,
   "metadata": {},
   "outputs": [
    {
     "data": {
      "image/png": "[encoded data removed]",
      "text/plain": [
       "<Figure size 432x288 with 1 Axes>"
      ]
     },
     "metadata": {
      "needs_background": "light"
     },
     "output_type": "display_data"
    },
    {
     "data": {
      "image/png": "[encoded data removed]",
      "text/plain": [
       "<Figure size 432x288 with 1 Axes>"
      ]
     },
     "metadata": {
      "needs_background": "light"
     },
     "output_type": "display_data"
    }
   ],
   "source": [
    "# 散布図(神奈川）\n",
    "\n",
    "plt.scatter(y=ht_kanagawa_treat[\"people\"], x=ht_kanagawa_treat['temp_max'])\n",
    "plt.ylabel(\"People of heatstrokes\")\n",
    "plt.xlabel(\"Max temperature\")\n",
    "plt.show()\n",
    "plt.scatter(y=ht_kanagawa_control[\"people\"], x=ht_kanagawa_control['temp_max'])\n",
    "plt.ylabel(\"People of heatstrokes\")\n",
    "plt.xlabel(\"Max temperature\")\n",
    "plt.show()"
   ]
  },
  {
   "cell_type": "code",
   "execution_count": 32,
   "metadata": {},
   "outputs": [
    {
     "data": {
      "image/png": "[encoded data removed]",
      "text/plain": [
       "<Figure size 432x288 with 1 Axes>"
      ]
     },
     "metadata": {
      "needs_background": "light"
     },
     "output_type": "display_data"
    },
    {
     "data": {
      "image/png": "[encoded data removed]",
      "text/plain": [
       "<Figure size 432x288 with 1 Axes>"
      ]
     },
     "metadata": {
      "needs_background": "light"
     },
     "output_type": "display_data"
    }
   ],
   "source": [
    "#　散布図（大阪）\n",
    "\n",
    "plt.scatter(y=ht_osaka_treat[\"people\"], x=ht_osaka_treat['temp_max'])\n",
    "plt.ylabel(\"People of heatstrokes\")\n",
    "plt.xlabel(\"Max temperature\")\n",
    "plt.show()\n",
    "plt.scatter(y=ht_osaka_control[\"people\"], x=ht_osaka_control['temp_max'])\n",
    "plt.ylabel(\"People of heatstrokes\")\n",
    "plt.xlabel(\"Max temperature\")\n",
    "plt.show()"
   ]
  },
  {
   "cell_type": "code",
   "execution_count": 33,
   "metadata": {},
   "outputs": [
    {
     "data": {
      "image/png": "[encoded data removed]",
      "text/plain": [
       "<Figure size 432x288 with 1 Axes>"
      ]
     },
     "metadata": {
      "needs_background": "light"
     },
     "output_type": "display_data"
    },
    {
     "data": {
      "image/png": "[encoded data removed]",
      "text/plain": [
       "<Figure size 432x288 with 1 Axes>"
      ]
     },
     "metadata": {
      "needs_background": "light"
     },
     "output_type": "display_data"
    }
   ],
   "source": [
    "# 散布図（全体）\n",
    "\n",
    "plt.scatter(y=ht_treat[\"people\"], x=ht_treat['temp_max'])\n",
    "plt.ylabel(\"People of heatstrokes\")\n",
    "plt.xlabel(\"Max temperature\")\n",
    "plt.show()\n",
    "plt.scatter(y=ht_control[\"people\"], x=ht_control['temp_max'])\n",
    "plt.ylabel(\"People of heatstrokes\")\n",
    "plt.xlabel(\"Max temperature\")\n",
    "plt.show()"
   ]
  },
  {
   "cell_type": "markdown",
   "metadata": {},
   "source": [
    "## C. 固定効果法(FE) <a id =\"sec3_4\"></a>"
   ]
  },
  {
   "cell_type": "code",
   "execution_count": 34,
   "metadata": {},
   "outputs": [
    {
     "name": "stdout",
     "output_type": "stream",
     "text": [
      "Table 1: Correlation between Heatstrokes and Temperature from June to August in 2020\n",
      "======================\n",
      "                 FE   \n",
      "----------------------\n",
      "temp_max     11.875***\n",
      "             (0.597)  \n",
      "R-squared    0.604    \n",
      "Observations 276      \n",
      "======================\n",
      "Standard errors in\n",
      "parentheses.\n",
      "* p<.1, ** p<.05,\n",
      "***p<.01\n",
      "Table 2: Correlation between Heatstrokes and Temperature from June to August in 2010-2019\n",
      "=====================\n",
      "                FE   \n",
      "---------------------\n",
      "temp_max     8.621***\n",
      "             (0.175) \n",
      "R-squared    0.481   \n",
      "Observations 2745    \n",
      "=====================\n",
      "Standard errors in\n",
      "parentheses.\n",
      "* p<.1, ** p<.05,\n",
      "***p<.01\n"
     ]
    }
   ],
   "source": [
    "# FE(固定効果法)　（東京、神奈川、大阪の地域をダミーにする）\n",
    "\n",
    "reg1 = smf.ols(\"people ~ temp_max + C(state_num)\" , data=ht_treat).fit()\n",
    "results_table1 = summary_col(results=[reg1],\n",
    "                            float_format='%0.3f', \n",
    "                            stars=True, \n",
    "                            model_names=[ 'FE'], \n",
    "                            info_dict={'R-squared' : lambda x: \"{:.3f}\".format(x.rsquared), \n",
    "                                       'Observations' : lambda x: \"{0:d}\".format(int(x.nobs))},\n",
    "                            regressor_order=['temp_max'],\n",
    "                            drop_omitted=True) \n",
    "results_table1.add_title(\"Table 1: Correlation between Heatstrokes and Temperature from June to August in 2020\")\n",
    "print(results_table1)\n",
    "\n",
    "reg2 = smf.ols(\"people ~ temp_max + C(state_num)\" , data=ht_control).fit()\n",
    "results_table2 = summary_col(results=[reg2],\n",
    "                            float_format='%0.3f', \n",
    "                            stars=True, \n",
    "                            model_names=[ 'FE'], \n",
    "                            info_dict={'R-squared' : lambda x: \"{:.3f}\".format(x.rsquared), \n",
    "                                       'Observations' : lambda x: \"{0:d}\".format(int(x.nobs))},\n",
    "                            regressor_order=['temp_max'],\n",
    "                            drop_omitted=True) \n",
    "results_table2.add_title(\"Table 2: Correlation between Heatstrokes and Temperature from June to August in 2010-2019\")\n",
    "print(results_table2)"
   ]
  },
  {
   "cell_type": "markdown",
   "metadata": {
    "slideshow": {
     "slide_type": "slide"
    }
   },
   "source": [
    "temp_maxの係数の推定値についてtreatmentの方がcontrolより大きい。よって、2020年においても十分な相関関係をもっている。"
   ]
  }
 ],
 "metadata": {
  "celltoolbar": "Slideshow",
  "kernelspec": {
   "display_name": "Python 3",
   "language": "python",
   "name": "python3"
  },
  "language_info": {
   "codemirror_mode": {
    "name": "ipython",
    "version": 3
   },
   "file_extension": ".py",
   "mimetype": "text/x-python",
   "name": "python",
   "nbconvert_exporter": "python",
   "pygments_lexer": "ipython3",
   "version": "3.8.3"
  }
 },
 "nbformat": 4,
 "nbformat_minor": 4
}
